{
 "cells": [
  {
   "cell_type": "code",
   "execution_count": null,
   "metadata": {},
   "outputs": [],
   "source": [
    "import struct\n",
    "import numpy"
   ]
  },
  {
   "cell_type": "code",
   "execution_count": null,
   "metadata": {},
   "outputs": [],
   "source": [
    "#Put all bytes from target file into memmap array\n",
    "target_file = numpy.memmap(filename = \"tests/samples/dummy.root\", mode = \"r\", dtype = numpy.uint8, shape = (928,))"
   ]
  },
  {
   "cell_type": "code",
   "execution_count": null,
   "metadata": {},
   "outputs": [],
   "source": [
    "_format1       = \">4si\"\n",
    "_format2_small = \">iiiiiiBiii18s\"\n",
    "_format2_big   = \">iqqiiiBiqi18s\"\n",
    "_format3       = \">hIIii\"\n",
    "_format4_small = \">iii\"\n",
    "_format4_big   = \">qqq\"\n",
    "_format5       = \">i\"\n",
    "_format_small  = \">ihiIhhii\"\n",
    "_format_big    = \">ihiIhhqq\""
   ]
  },
  {
   "cell_type": "code",
   "execution_count": null,
   "metadata": {},
   "outputs": [],
   "source": [
    "name = input(\"Enter name of the ROOT file - \")\n",
    "if name.endswith(\".root\") is False:\n",
    "    name = name + \".root\"\n",
    "file = numpy.memmap(filename = name, dtype = numpy.uint8, mode = \"w+\", shape = (928,))\n",
    "#In the case of a 1D array, the shape is the size of the file\n",
    "#In ROOT files, the fEND corresponds to the size of the file\n",
    "#fEND for ~/Downloads/uproot/tests/samples/dummy.root is 928"
   ]
  },
  {
   "cell_type": "code",
   "execution_count": null,
   "metadata": {},
   "outputs": [],
   "source": [
    "#Working on just replacing bytes on target_file\n",
    "file = numpy.memmap(filename = \"rootpy.root\", dtype = numpy.uint8, mode = \"w+\", shape = (928,))\n",
    "file[:] = target_file[:]"
   ]
  },
  {
   "cell_type": "code",
   "execution_count": null,
   "metadata": {},
   "outputs": [],
   "source": [
    "#Header bytes\n",
    "fVersion = 61400\n",
    "toadd = numpy.frombuffer(struct.pack(_format1, b\"root\", fVersion), dtype=numpy.uint8)\n",
    "count = len(toadd)\n",
    "file[:count] = toadd\n",
    "#constants for file dummy.root\n",
    "fBEGIN = 100\n",
    "fEND = 822\n",
    "fSeekFree = 874\n",
    "fNbytesFree = 54\n",
    "nfree = 1\n",
    "fNbytesName = 56\n",
    "fUnits = 4\n",
    "fCompress = 0\n",
    "fSeekInfo = 318\n",
    "fNbytesInfo = 434\n",
    "fUUID = b\"\\x00\\x010\\xd5\\xf5\\xea~\\x0b\\x11\\xe8\\xa2D~S\\x1f\\xac\\xbe\\xef\"\n",
    "toadd = numpy.frombuffer(struct.pack(_format2_small, fBEGIN, fEND, fSeekFree, fNbytesFree, nfree, fNbytesName, fUnits, fCompress, fSeekInfo, fNbytesInfo, fUUID), dtype=numpy.uint8)\n",
    "file[count:(count + len(toadd))] = toadd\n",
    "count = count + len(toadd)"
   ]
  },
  {
   "cell_type": "code",
   "execution_count": null,
   "metadata": {},
   "outputs": [],
   "source": [
    "#Tkey instance\n",
    "start = 100\n",
    "fNbytes = 116\n",
    "fVersion = 4\n",
    "fObjlen = 72\n",
    "fDatime = 1573188772\n",
    "fKeylen = 44\n",
    "fCycle = 1\n",
    "fSeekKey = 100\n",
    "fSeekPdir = 0\n",
    "toadd = numpy.frombuffer(struct.pack(_format_small, fNbytes, fVersion, fObjlen, fDatime, fKeylen, fCycle, fSeekKey, fSeekPdir), dtype = numpy.uint8)\n",
    "file[start:(start + len(toadd))] = toadd\n",
    "newpos = 126\n",
    "fClassName = b'TFile'\n",
    "fName = b'dummy.root'\n",
    "fTitle = b''\n",
    "file[newpos] = bytes(str(len(fClassName)),\"ascii\")\n",
    "newpos = newpos + 1\n",
    "file[newpos:(newpos + len(fClassName))] = numpy.frombuffer(fClassName, dtype = numpy.uint8)\n",
    "newpos = newpos + len(fClassName)\n",
    "file[newpos] = bytes(str(len(fName)),\"ascii\")\n",
    "newpos = newpos + 1\n",
    "file[newpos:(newpos + len(fName))] = numpy.frombuffer(fName, dtype = numpy.uint8)\n",
    "newpos = newpos + len(fName)\n",
    "file[newpos] = bytes(str(len(fTitle)),\"ascii\")\n",
    "newpos = newpos + 1\n",
    "file[newpos:(newpos + len(fTitle))] = numpy.frombuffer(fTitle, dtype = numpy.uint8)"
   ]
  },
  {
   "cell_type": "code",
   "execution_count": null,
   "metadata": {},
   "outputs": [],
   "source": [
    "#Value of TKey\n",
    "newpos = 156\n",
    "fVersion = 5\n",
    "fDatimeC = 1573188772\n",
    "fDatimeM = 1573188772\n",
    "fNbytesKeys = 122\n",
    "fNbytesName = 56\n",
    "fSeekDir = 100\n",
    "fSeekParent = 0\n",
    "fSeekKeys = 752\n",
    "toadd = numpy.frombuffer(struct.pack(_format3, fVersion, fDatimeC, fDatimeM, fNbytesKeys, fNbytesName), dtype = numpy.uint8)\n",
    "file[newpos:(newpos + len(toadd))] = toadd\n",
    "newpos = newpos + len(toadd)\n",
    "toadd = numpy.frombuffer(struct.pack(_format4_small, fSeekDir, fSeekParent, fSeekKeys), dtype = numpy.uint8)\n",
    "file[newpos:(newpos + len(toadd))] = toadd"
   ]
  },
  {
   "cell_type": "code",
   "execution_count": null,
   "metadata": {},
   "outputs": [],
   "source": [
    "#Read number of keys\n",
    "nkeys = 1\n",
    "newpos = 796\n",
    "toadd = numpy.frombuffer(struct.pack(_format5, nkeys), dtype = numpy.uint8)\n",
    "file[newpos:(newpos + len(toadd))] = toadd"
   ]
  },
  {
   "cell_type": "code",
   "execution_count": null,
   "metadata": {},
   "outputs": [],
   "source": [
    "#Tkey instance\n",
    "start = 752\n",
    "fNbytes = 122\n",
    "fVersion = 4\n",
    "fObjlen = 48\n",
    "fDatime = 1573188772\n",
    "fKeylen = 44\n",
    "fCycle = 1\n",
    "fSeekKey = 752\n",
    "fSeekPdir = 100\n",
    "toadd = numpy.frombuffer(struct.pack(_format_small, fNbytes, fVersion, fObjlen, fDatime, fKeylen, fCycle, fSeekKey, fSeekPdir), dtype = numpy.uint8)\n",
    "file[start:(start + len(toadd))] = toadd\n",
    "newpos = 778\n",
    "fClassName = b'TFile'\n",
    "fName = b'dummy.root'\n",
    "fTitle = b''\n",
    "file[newpos] = bytes(str(len(fClassName)),\"ascii\")\n",
    "newpos = newpos + 1\n",
    "file[newpos:(newpos + len(fClassName))] = numpy.frombuffer(fClassName, dtype = numpy.uint8)\n",
    "newpos = newpos + len(fClassName)\n",
    "file[newpos] = bytes(str(len(fName)),\"ascii\")\n",
    "newpos = newpos + 1\n",
    "file[newpos:(newpos + len(fName))] = numpy.frombuffer(fName, dtype = numpy.uint8)\n",
    "newpos = newpos + len(fName)\n",
    "file[newpos] = bytes(str(len(fTitle)),\"ascii\")\n",
    "newpos = newpos + 1\n",
    "file[newpos:(newpos + len(fTitle))] = numpy.frombuffer(fTitle, dtype = numpy.uint8)"
   ]
  },
  {
   "cell_type": "code",
   "execution_count": null,
   "metadata": {},
   "outputs": [],
   "source": [
    "#Tkey instance \n",
    "start = 800\n",
    "fNbytes = 102\n",
    "fVersion = 4\n",
    "fObjlen = 28\n",
    "fDatime = 1573188772\n",
    "fKeylen = 74\n",
    "fCycle = 1\n",
    "fSeekKey = 216\n",
    "fSeekPdir = 100\n",
    "toadd = numpy.frombuffer(struct.pack(_format_small, fNbytes, fVersion, fObjlen, fDatime, fKeylen, fCycle, fSeekKey, fSeekPdir), dtype = numpy.uint8)\n",
    "file[start:(start + len(toadd))] = toadd\n",
    "newpos = 826\n",
    "fClassName = b'TObjString'\n",
    "fName = b'Hello World'\n",
    "fTitle = b'Collectable string class'\n",
    "file[newpos] = bytes(str(len(fClassName)),\"ascii\")\n",
    "newpos = newpos + 1\n",
    "file[newpos:(newpos + len(fClassName))] = numpy.frombuffer(fClassName, dtype = numpy.uint8)\n",
    "newpos = newpos + len(fClassName)\n",
    "file[newpos] = bytes(str(len(fName)),\"ascii\")\n",
    "newpos = newpos + 1\n",
    "file[newpos:(newpos + len(fName))] = numpy.frombuffer(fName, dtype = numpy.uint8)\n",
    "newpos = newpos + len(fName)\n",
    "file[newpos] = bytes(str(len(fTitle)),\"ascii\")\n",
    "newpos = newpos + 1\n",
    "file[newpos:(newpos + len(fTitle))] = numpy.frombuffer(fTitle, dtype = numpy.uint8)"
   ]
  },
  {
   "cell_type": "code",
   "execution_count": null,
   "metadata": {},
   "outputs": [],
   "source": [
    "#Tkey streamer\n",
    "start = 344\n",
    "fNbytes = 434\n",
    "fVersion = 4\n",
    "fObjlen = 370\n",
    "fDatime = 1573188772\n",
    "fKeylen = 64\n",
    "fCycle = 1\n",
    "fSeekKey = 318\n",
    "fSeekPdir = 100\n",
    "toadd = numpy.frombuffer(struct.pack(_format_big, fNbytes, fVersion, fObjlen, fDatime, fKeylen, fCycle, fSeekKey, fSeekPdir), dtype = numpy.uint8)\n",
    "file[start:(start + len(toadd))] = toadd\n",
    "\n",
    "#Garbage till now\n",
    "file[344:377] = target_file[344:377]"
   ]
  },
  {
   "cell_type": "code",
   "execution_count": null,
   "metadata": {},
   "outputs": [],
   "source": [
    "#Examine bytes of target file\n",
    "f = open(\"tests/samples/dummy.root\", \"rb\")\n",
    "count = 0\n",
    "try:\n",
    "    byte = f.read(1)\n",
    "    while byte != \"\":\n",
    "        print (count, \" \", byte)\n",
    "        count = count + 1\n",
    "        byte = f.read(1)\n",
    "        if count == 928:\n",
    "            break\n",
    "finally:\n",
    "    f.close()"
   ]
  },
  {
   "cell_type": "code",
   "execution_count": null,
   "metadata": {},
   "outputs": [],
   "source": [
    "#Examine bytes of target file copy\n",
    "f = open(\"tests/samples/dummy2.root\", \"rb\")\n",
    "count = 0\n",
    "try:\n",
    "    byte = f.read(1)\n",
    "    while byte != \"\":\n",
    "        print (count, \" \", byte)\n",
    "        count = count + 1\n",
    "        byte = f.read(1)\n",
    "        if count == 928:\n",
    "            break\n",
    "finally:\n",
    "    f.close()"
   ]
  },
  {
   "cell_type": "code",
   "execution_count": null,
   "metadata": {},
   "outputs": [],
   "source": [
    "#Examine bytes of our file\n",
    "f = open(\"rootpy.root\", \"rb\")\n",
    "count = 0\n",
    "try:\n",
    "    byte = f.read(1)\n",
    "    while byte != \"\":\n",
    "        print (count, \" \", byte)\n",
    "        count = count + 1\n",
    "        byte = f.read(1)\n",
    "        if count == 928:\n",
    "            break\n",
    "finally:\n",
    "    f.close()"
   ]
  },
  {
   "cell_type": "code",
   "execution_count": null,
   "metadata": {},
   "outputs": [],
   "source": [
    "#Examine bytes of empty file\n",
    "f = open(\"tests/samples/empty.root\", \"rb\")\n",
    "count = 0\n",
    "try:\n",
    "    byte = f.read(1)\n",
    "    while byte != \"\":\n",
    "        print (count, \" \", byte)\n",
    "        count = count + 1\n",
    "        byte = f.read(1)\n",
    "        if count == 403:\n",
    "            break\n",
    "finally:\n",
    "    f.close()"
   ]
  },
  {
   "cell_type": "code",
   "execution_count": null,
   "metadata": {},
   "outputs": [],
   "source": [
    "#Examining target_file\n",
    "target_file[:count]"
   ]
  },
  {
   "cell_type": "code",
   "execution_count": null,
   "metadata": {},
   "outputs": [],
   "source": [
    "#Examining our file\n",
    "file[:count]"
   ]
  },
  {
   "cell_type": "code",
   "execution_count": null,
   "metadata": {},
   "outputs": [],
   "source": [
    "#Test - Debug target file with uproot\n",
    "import uproot\n",
    "uproot.open(\"~/Downloads/uproot/tests/samples/dummy.root\")"
   ]
  },
  {
   "cell_type": "code",
   "execution_count": null,
   "metadata": {},
   "outputs": [],
   "source": [
    "#Test - Examine same file with TObjString\n",
    "import uproot\n",
    "uproot.open(\"~/Downloads/uproot/tests/samples/dummy2.root\")"
   ]
  },
  {
   "cell_type": "code",
   "execution_count": null,
   "metadata": {},
   "outputs": [],
   "source": [
    "#Test - Check hexdump of target file\n",
    "!hexdump -C ~/Downloads/uproot/tests/samples/dummy.root"
   ]
  },
  {
   "cell_type": "code",
   "execution_count": null,
   "metadata": {},
   "outputs": [],
   "source": [
    "#Test - Hexdump of basic file\n",
    "!hexdump -C ~/Downloads/uproot/tests/samples/dummy2.root"
   ]
  },
  {
   "cell_type": "code",
   "execution_count": null,
   "metadata": {},
   "outputs": [],
   "source": [
    "#Test - See bytes read of copied file\n",
    "!hexdump -C rootpy.root | head"
   ]
  },
  {
   "cell_type": "code",
   "execution_count": null,
   "metadata": {},
   "outputs": [],
   "source": [
    "#Test - uproot is reading is reading our file correctly\n",
    "import uproot\n",
    "uproot.open(\"~/Downloads/uproot/rootpy.root\", read_streamers = False)"
   ]
  },
  {
   "cell_type": "code",
   "execution_count": null,
   "metadata": {},
   "outputs": [],
   "source": [
    "#Test - Check size of file\n",
    "import os\n",
    "statinfo_target = os.stat('tests/samples/sample-6.14.00-uncompressed.root')\n",
    "print (\"Size of target file is \", statinfo_target.st_size)\n",
    "statinfo_copy = os.stat('rootpy.root')\n",
    "print (\"Size of written file is \", statinfo_copy.st_size)"
   ]
  },
  {
   "cell_type": "code",
   "execution_count": null,
   "metadata": {},
   "outputs": [],
   "source": []
  }
 ],
 "metadata": {
  "kernelspec": {
   "display_name": "Python 3",
   "language": "python",
   "name": "python3"
  },
  "language_info": {
   "codemirror_mode": {
    "name": "ipython",
    "version": 3
   },
   "file_extension": ".py",
   "mimetype": "text/x-python",
   "name": "python",
   "nbconvert_exporter": "python",
   "pygments_lexer": "ipython3",
   "version": "3.6.5"
  }
 },
 "nbformat": 4,
 "nbformat_minor": 2
}
