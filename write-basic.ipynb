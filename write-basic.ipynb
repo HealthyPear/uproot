{
 "cells": [
  {
   "cell_type": "code",
   "execution_count": 2,
   "metadata": {},
   "outputs": [],
   "source": [
    "import struct\n",
    "import numpy"
   ]
  },
  {
   "cell_type": "code",
   "execution_count": 3,
   "metadata": {},
   "outputs": [],
   "source": [
    "#Put all bytes from target file into memmap array\n",
    "target_file = numpy.memmap(filename = \"tests/samples/sample-6.14.00-uncompressed.root\", mode=\"r\", dtype = numpy.uint8, shape = (80618,))"
   ]
  },
  {
   "cell_type": "code",
   "execution_count": 6,
   "metadata": {},
   "outputs": [],
   "source": [
    "_format1       = \">4si\"\n",
    "_format2_small = \">iiiiiiBiii18s\"\n",
    "_format2_big   = \">iqqiiiBiqi18s\"\n",
    "_format3       = \">hIIii\"\n",
    "_format4_small = \">iii\"\n",
    "_format4_big   = \">qqq\"\n",
    "_format5       = \">i\""
   ]
  },
  {
   "cell_type": "code",
   "execution_count": 7,
   "metadata": {},
   "outputs": [],
   "source": [
    "name = input(\"Enter name of the ROOT file - \")\n",
    "if name.endswith(\".root\") is False:\n",
    "    name = name + \".root\"\n",
    "file = numpy.memmap(filename = name, dtype = numpy.uint8, mode = \"w+\", shape = (80618,))\n",
    "#In the case of a 1D array, the shape is the size of the file\n",
    "#In ROOT files, the fEND corresponds to the size of the file\n",
    "#fEND for ~/Downloads/uproot/tests/samples/sample-6.14.00-uncompressed.root is 80618"
   ]
  },
  {
   "cell_type": "code",
   "execution_count": 8,
   "metadata": {},
   "outputs": [],
   "source": [
    "#Header bytes\n",
    "fVersion = 61400\n",
    "toadd = numpy.frombuffer(struct.pack(_format1, b\"root\", fVersion), dtype=numpy.uint8)\n",
    "count = len(toadd)\n",
    "file[:count] = toadd\n",
    "#constants for file sample-6.14.00-uncompressed.root\n",
    "fBEGIN = 100\n",
    "fEND = 80618\n",
    "fSeekFree = 80542\n",
    "fNbytesFree = 76\n",
    "nfree = 1\n",
    "fNbytesName = 100\n",
    "fUnits = 4\n",
    "fCompress = 100\n",
    "fSeekInfo = 63150\n",
    "fNbytesInfo = 17282\n",
    "fUUID = b\"\\x00\\x01\\x11\\xaf/\\xd0t^\\x11\\xe8\\x8a\\x9b\\x01\\x00\\x00\\x7f\\xbe\\xef\"\n",
    "toadd = numpy.frombuffer(struct.pack(_format2_small, fBEGIN, fEND, fSeekFree, fNbytesFree, nfree, fNbytesName, fUnits, fCompress, fSeekInfo, fNbytesInfo, fUUID), dtype=numpy.uint8)\n",
    "file[count:(count + len(toadd))] = toadd\n",
    "count = count + len(toadd)"
   ]
  },
  {
   "cell_type": "code",
   "execution_count": null,
   "metadata": {},
   "outputs": [],
   "source": [
    "#Temporary position\n",
    "fVersion = 5\n",
    "fDatimeC = 1571330984\n",
    "fNbytesKeys = 110\n",
    "fNbytesName = 100\n",
    "fDatimeM = 1571330985\n",
    "toadd = numpy.frombuffer(struct.pack(_format3, fVersion, fDatimeC, fDatimeM, fNbytesKeys, fNbytesName), dtype=numpy.uint8)\n",
    "file[count:(count + len(toadd))] = toadd\n",
    "count = count + len(toadd)"
   ]
  },
  {
   "cell_type": "code",
   "execution_count": 9,
   "metadata": {},
   "outputs": [
    {
     "data": {
      "text/plain": [
       "memmap([114, 111, 111, 116,   0,   0, 239, 216,   0,   0,   0, 100,   0,\n",
       "          1,  58, 234,   0,   1,  58, 158,   0,   0,   0,  76,   0,   0,\n",
       "          0,   1,   0,   0,   0, 100,   4,   0,   0,   0, 100,   0,   0,\n",
       "        246, 174,   0,   0,  67, 130,   0,   1,  17, 175,  47, 208, 116,\n",
       "         94,  17, 232, 138, 155,   1,   0,   0, 127, 190, 239],\n",
       "       dtype=uint8)"
      ]
     },
     "execution_count": 9,
     "metadata": {},
     "output_type": "execute_result"
    }
   ],
   "source": [
    "#Hexdump examining block\n",
    "target_file[:count]"
   ]
  },
  {
   "cell_type": "code",
   "execution_count": null,
   "metadata": {},
   "outputs": [],
   "source": [
    "#Test - See bytes read of target file\n",
    "!hexdump -C tests/samples/sample-6.14.00-uncompressed.root | head"
   ]
  },
  {
   "cell_type": "code",
   "execution_count": null,
   "metadata": {},
   "outputs": [],
   "source": [
    "#Test - See bytes read of copied file\n",
    "!hexdump -C rootpy.root | head"
   ]
  },
  {
   "cell_type": "code",
   "execution_count": null,
   "metadata": {},
   "outputs": [],
   "source": [
    "#Test - uproot is reading it correctly\n",
    "import uproot\n",
    "uproot.open('~/Downloads/uproot/rootpy.root')"
   ]
  },
  {
   "cell_type": "code",
   "execution_count": null,
   "metadata": {},
   "outputs": [],
   "source": [
    "#Test - Check size of file\n",
    "import os\n",
    "statinfo_target = os.stat('tests/samples/sample-6.14.00-uncompressed.root')\n",
    "print (\"Size of target file is \", statinfo_target.st_size)\n",
    "statinfo_copy = os.stat('rootpy.root')\n",
    "print (\"Size of written file is \", statinfo_copy.st_size)"
   ]
  },
  {
   "cell_type": "code",
   "execution_count": null,
   "metadata": {},
   "outputs": [],
   "source": []
  }
 ],
 "metadata": {
  "kernelspec": {
   "display_name": "Python 3",
   "language": "python",
   "name": "python3"
  },
  "language_info": {
   "codemirror_mode": {
    "name": "ipython",
    "version": 3
   },
   "file_extension": ".py",
   "mimetype": "text/x-python",
   "name": "python",
   "nbconvert_exporter": "python",
   "pygments_lexer": "ipython3",
   "version": "3.6.5"
  }
 },
 "nbformat": 4,
 "nbformat_minor": 2
}
