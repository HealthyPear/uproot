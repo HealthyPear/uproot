{
 "cells": [
  {
   "cell_type": "code",
   "execution_count": 1,
   "metadata": {},
   "outputs": [],
   "source": [
    "import struct"
   ]
  },
  {
   "cell_type": "code",
   "execution_count": 2,
   "metadata": {},
   "outputs": [],
   "source": [
    "_format1 = \">4si\"\n",
    "_format2 = \">iqqiiiBiqi18s\""
   ]
  },
  {
   "cell_type": "code",
   "execution_count": 3,
   "metadata": {},
   "outputs": [],
   "source": [
    "name = input(\"Enter name of the ROOT file - \")\n",
    "if name.endswith(\".root\") is False:\n",
    "    name = name + \".root\"\n",
    "file = open(name, \"w+b\")"
   ]
  },
  {
   "cell_type": "code",
   "execution_count": 4,
   "metadata": {},
   "outputs": [
    {
     "data": {
      "text/plain": [
       "8"
      ]
     },
     "execution_count": 4,
     "metadata": {},
     "output_type": "execute_result"
    }
   ],
   "source": [
    "fVersion = 61400\n",
    "begin = struct.pack(_format1, b\"root\", fVersion)\n",
    "file.write(begin)"
   ]
  },
  {
   "cell_type": "code",
   "execution_count": 5,
   "metadata": {},
   "outputs": [
    {
     "data": {
      "text/plain": [
       "67"
      ]
     },
     "execution_count": 5,
     "metadata": {},
     "output_type": "execute_result"
    }
   ],
   "source": [
    "#constants for file sample-6.14.00-lz4.root\n",
    "fBegin = 100\n",
    "fEnd = 50903\n",
    "fSeekFree = 50836\n",
    "fNbytesFree = 67\n",
    "nfree = 1\n",
    "fNbytesName = 82\n",
    "fUnits = 4\n",
    "fCompress = 404\n",
    "fSeekInfo = 45408\n",
    "fNbytesInfo = 5327\n",
    "fUUID = b'\\x00\\x01<9\\x994t^\\x11\\xe8\\x80\\x11\\x01\\x00\\x00\\x7f\\xbe\\xef'\n",
    "start = struct.pack(_format2, fBegin, fEnd, fSeekFree, fNbytesFree, nfree, fNbytesName, fUnits, fCompress, fSeekInfo, fNbytesInfo, fUUID)\n",
    "file.write(start)"
   ]
  },
  {
   "cell_type": "code",
   "execution_count": 6,
   "metadata": {},
   "outputs": [
    {
     "data": {
      "text/plain": [
       "0"
      ]
     },
     "execution_count": 6,
     "metadata": {},
     "output_type": "execute_result"
    }
   ],
   "source": [
    "#Test\n",
    "import os\n",
    "statinfo = os.stat('rootpy.root')\n",
    "statinfo.st_size"
   ]
  },
  {
   "cell_type": "code",
   "execution_count": null,
   "metadata": {},
   "outputs": [],
   "source": [
    "#Test\n",
    "import uproot\n",
    "uproot.open('~/Downloads/uproot/rootpy.root')"
   ]
  },
  {
   "cell_type": "code",
   "execution_count": null,
   "metadata": {},
   "outputs": [],
   "source": []
  }
 ],
 "metadata": {
  "kernelspec": {
   "display_name": "Python 3",
   "language": "python",
   "name": "python3"
  },
  "language_info": {
   "codemirror_mode": {
    "name": "ipython",
    "version": 3
   },
   "file_extension": ".py",
   "mimetype": "text/x-python",
   "name": "python",
   "nbconvert_exporter": "python",
   "pygments_lexer": "ipython3",
   "version": "3.6.5"
  }
 },
 "nbformat": 4,
 "nbformat_minor": 2
}
