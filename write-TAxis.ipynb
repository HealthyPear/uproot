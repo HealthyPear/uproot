{
 "cells": [
  {
   "cell_type": "raw",
   "metadata": {},
   "source": [
    "Notebook to test and better understand TAxis"
   ]
  },
  {
   "cell_type": "code",
   "execution_count": null,
   "metadata": {},
   "outputs": [],
   "source": [
    "from write.sink import Sink\n",
    "from write.headkey import HeadKey\n",
    "from write.header import Header\n",
    "from write.begin_key import Begin_Key\n",
    "from write.directoryinfo import DirectoryInfo\n",
    "from write.streamerkey import StreamerKey\n",
    "from write.allstreamer import AllStreamers\n",
    "from write.utils import resize\n",
    "\n",
    "from write.TAxis.taxis import TAxis"
   ]
  }
 ],
 "metadata": {
  "kernelspec": {
   "display_name": "Python 3",
   "language": "python",
   "name": "python3"
  },
  "language_info": {
   "codemirror_mode": {
    "name": "ipython",
    "version": 3
   },
   "file_extension": ".py",
   "mimetype": "text/x-python",
   "name": "python",
   "nbconvert_exporter": "python",
   "pygments_lexer": "ipython3",
   "version": "3.6.5"
  }
 },
 "nbformat": 4,
 "nbformat_minor": 2
}
