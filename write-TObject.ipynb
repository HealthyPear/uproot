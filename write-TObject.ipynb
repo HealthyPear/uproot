{
 "cells": [
  {
   "cell_type": "code",
   "execution_count": null,
   "metadata": {},
   "outputs": [],
   "source": [
    "import struct\n",
    "import numpy"
   ]
  },
  {
   "cell_type": "code",
   "execution_count": null,
   "metadata": {},
   "outputs": [],
   "source": [
    "_format1       = \">4si\"\n",
    "_format2_small = \">iiiiiiBiii18s\"\n",
    "_format2_big   = \">iqqiiiBiqi18s\"\n",
    "_format3       = \">hIIii\"\n",
    "_format4_small = \">iii\"\n",
    "_format4_big   = \">qqq\"\n",
    "_format5       = \">i\"\n",
    "_format_small  = \">ihiIhhii\"\n",
    "_format_big    = \">ihiIhhqq\"\n",
    "_startcheck_format = \">IH\""
   ]
  },
  {
   "cell_type": "code",
   "execution_count": null,
   "metadata": {},
   "outputs": [],
   "source": [
    "#Put all bytes from target file into memmap array\n",
    "target_file = numpy.memmap(filename = \"tests/samples/tobject.root\", mode = \"r\", dtype = numpy.uint8, shape = (541,))"
   ]
  },
  {
   "cell_type": "code",
   "execution_count": null,
   "metadata": {},
   "outputs": [],
   "source": [
    "name = input(\"Enter name of the ROOT file - \")\n",
    "if name.endswith(\".root\") is False:\n",
    "    name = name + \".root\"\n",
    "file = numpy.memmap(filename = name, dtype = numpy.uint8, mode = \"w+\", shape = (541,))\n",
    "#In the case of a 1D array, the shape is the size of the file\n",
    "#In ROOT files, the fEND corresponds to the size of the file\n",
    "#fEND for ~/Downloads/uproot/tests/samples/dummy.root is 541"
   ]
  },
  {
   "cell_type": "code",
   "execution_count": null,
   "metadata": {},
   "outputs": [],
   "source": [
    "#Working on just replacing bytes on target_file\n",
    "file = numpy.memmap(filename = \"uprootTObject.root\", dtype = numpy.uint8, mode = \"w+\", shape = (541,))\n",
    "file[:] = target_file[:]"
   ]
  },
  {
   "cell_type": "code",
   "execution_count": null,
   "metadata": {},
   "outputs": [],
   "source": [
    "#Header Bytes\n",
    "fVersion = 61400\n",
    "toadd = numpy.frombuffer(struct.pack(_format1, b\"root\", fVersion), dtype = numpy.uint8)\n",
    "count = len(toadd)\n",
    "file[:count] = toadd\n",
    "#constants for file tobject.root\n",
    "fBEGIN =  100\n",
    "fEND =  541\n",
    "fSeekFree =  485\n",
    "fNbytesFree =  56\n",
    "nfree =  1\n",
    "fNbytesName =  60\n",
    "fUnits =  4\n",
    "fCompress = 0\n",
    "fSeekInfo =  290\n",
    "fNbytesInfo =  85\n",
    "fUUID =  b'\\x00\\x01\\xeb{\\xde*\\x84]\\x11\\xe8\\xaa\\x8a>4\\xe1\\x83\\xbe\\xef'\n",
    "toadd = numpy.frombuffer(struct.pack(_format2_small, fBEGIN, fEND, fSeekFree, fNbytesFree, nfree, fNbytesName, fUnits, fCompress, fSeekInfo, fNbytesInfo, fUUID), dtype=numpy.uint8)\n",
    "file[count:(count + len(toadd))] = toadd\n",
    "count = count + len(toadd)"
   ]
  },
  {
   "cell_type": "code",
   "execution_count": null,
   "metadata": {},
   "outputs": [],
   "source": [
    "#Streamer Key\n",
    "newpos =  290\n",
    "fNbytes =  85\n",
    "fVersion =  4\n",
    "fObjlen =  21\n",
    "fDatime =  1574221431\n",
    "fKeylen =  64\n",
    "fCycle =  1\n",
    "fSeekKey =  290\n",
    "fSeekPdir =  100\n",
    "toadd = numpy.frombuffer(struct.pack(_format_small, fNbytes, fVersion, fObjlen, fDatime, fKeylen, fCycle, fSeekKey, fSeekPdir), dtype = numpy.uint8)\n",
    "file[newpos:(newpos + len(toadd))] = toadd\n",
    "newpos = newpos + len(toadd)\n",
    "\n",
    "newpos =  316\n",
    "fClassName =  b'TList'\n",
    "fName =  b'StreamerInfo'\n",
    "fTitle =  b'Doubly linked list'\n",
    "file[newpos] = bytes(str(len(fClassName)),\"ascii\")\n",
    "newpos = newpos + 1\n",
    "file[newpos:(newpos + len(fClassName))] = numpy.frombuffer(fClassName, dtype = numpy.uint8)\n",
    "newpos = newpos + len(fClassName)\n",
    "file[newpos] = bytes(str(len(fName)),\"ascii\")\n",
    "newpos = newpos + 1\n",
    "file[newpos:(newpos + len(fName))] = numpy.frombuffer(fName, dtype = numpy.uint8)\n",
    "newpos = newpos + len(fName)\n",
    "file[newpos] = bytes(str(len(fTitle)),\"ascii\")\n",
    "newpos = newpos + 1\n",
    "file[newpos:(newpos + len(fTitle))] = numpy.frombuffer(fTitle, dtype = numpy.uint8)"
   ]
  },
  {
   "cell_type": "code",
   "execution_count": null,
   "metadata": {},
   "outputs": [],
   "source": [
    "#TList Streamer\n",
    "newpos =  354\n",
    "cnt =  1073741841\n",
    "vers =  5\n",
    "toadd = numpy.frombuffer(struct.pack(\">IH\", cnt, vers), dtype = numpy.uint8)\n",
    "file[newpos:(newpos + len(toadd))] = toadd\n",
    "newpos = newpos + len(toadd)\n",
    "\n",
    "newpos =  370\n",
    "name =  b''\n",
    "file[newpos] = bytes(str(len(name)),\"ascii\")\n",
    "newpos = newpos + 1\n",
    "file[newpos:(newpos + len(name))] = numpy.frombuffer(name, dtype = numpy.uint8)\n",
    "newpos = newpos + len(name)\n",
    "size = 0\n",
    "toadd = numpy.frombuffer(struct.pack(\">i\", size), dtype = numpy.uint8)\n",
    "file[newpos:(newpos + len(toadd))] = toadd\n",
    "newpos = newpos + len(toadd)"
   ]
  },
  {
   "cell_type": "code",
   "execution_count": null,
   "metadata": {},
   "outputs": [],
   "source": [
    "#TKey Instance\n",
    "start =  100\n",
    "fNbytes =  120\n",
    "fVersion =  4\n",
    "fObjlen =  74\n",
    "fDatime =  1574221431\n",
    "fKeylen =  46\n",
    "fCycle =  1\n",
    "fSeekKey =  100\n",
    "fSeekPdir =  0\n",
    "toadd = numpy.frombuffer(struct.pack(_format_small, fNbytes, fVersion, fObjlen, fDatime, fKeylen, fCycle, fSeekKey, fSeekPdir), dtype = numpy.uint8)\n",
    "file[start:(start + len(toadd))] = toadd\n",
    "\n",
    "newpos =  126\n",
    "fClassName =  b'TFile'\n",
    "fName =  b'tobject.root'\n",
    "fTitle =  b''\n",
    "file[newpos] = bytes(str(len(fClassName)),\"ascii\")\n",
    "newpos = newpos + 1\n",
    "file[newpos:(newpos + len(fClassName))] = numpy.frombuffer(fClassName, dtype = numpy.uint8)\n",
    "newpos = newpos + len(fClassName)\n",
    "file[newpos] = bytes(str(len(fName)),\"ascii\")\n",
    "newpos = newpos + 1\n",
    "file[newpos:(newpos + len(fName))] = numpy.frombuffer(fName, dtype = numpy.uint8)\n",
    "newpos = newpos + len(fName)\n",
    "file[newpos] = bytes(str(len(fTitle)),\"ascii\")\n",
    "newpos = newpos + 1\n",
    "file[newpos:(newpos + len(fTitle))] = numpy.frombuffer(fTitle, dtype = numpy.uint8)"
   ]
  },
  {
   "cell_type": "code",
   "execution_count": null,
   "metadata": {},
   "outputs": [],
   "source": [
    "#Directory Information\n",
    "newpos =  160\n",
    "fVersion =  5\n",
    "fDatimeC =  1574221431\n",
    "fDatimeM =  1574221431\n",
    "fNbytesKeys =  110\n",
    "fSeekDir =  100\n",
    "fSeekParent =  0\n",
    "fSeekKeys =  375\n",
    "toadd = numpy.frombuffer(struct.pack(_format3, fVersion, fDatimeC, fDatimeM, fNbytesKeys, fNbytesName), dtype = numpy.uint8)\n",
    "file[newpos:(newpos + len(toadd))] = toadd\n",
    "newpos = newpos + len(toadd)\n",
    "toadd = numpy.frombuffer(struct.pack(_format4_small, fSeekDir, fSeekParent, fSeekKeys), dtype = numpy.uint8)\n",
    "file[newpos:(newpos + len(toadd))] = toadd"
   ]
  },
  {
   "cell_type": "code",
   "execution_count": null,
   "metadata": {},
   "outputs": [],
   "source": [
    "#TKey Instance\n",
    "start =  375\n",
    "fNbytes =  110\n",
    "fVersion =  4\n",
    "fObjlen =  64\n",
    "fDatime =  1574221431\n",
    "fKeylen =  46\n",
    "fCycle =  1\n",
    "fSeekKey =  375\n",
    "fSeekPdir =  100\n",
    "toadd = numpy.frombuffer(struct.pack(_format_small, fNbytes, fVersion, fObjlen, fDatime, fKeylen, fCycle, fSeekKey, fSeekPdir), dtype = numpy.uint8)\n",
    "file[start:(start + len(toadd))] = toadd\n",
    "\n",
    "newpos =  401\n",
    "fClassName =  b'TFile'\n",
    "fName =  b'tobject.root'\n",
    "fTitle =  b''\n",
    "file[newpos] = bytes(str(len(fClassName)),\"ascii\")\n",
    "newpos = newpos + 1\n",
    "file[newpos:(newpos + len(fClassName))] = numpy.frombuffer(fClassName, dtype = numpy.uint8)\n",
    "newpos = newpos + len(fClassName)\n",
    "file[newpos] = bytes(str(len(fName)),\"ascii\")\n",
    "newpos = newpos + 1\n",
    "file[newpos:(newpos + len(fName))] = numpy.frombuffer(fName, dtype = numpy.uint8)\n",
    "newpos = newpos + len(fName)\n",
    "file[newpos] = bytes(str(len(fTitle)),\"ascii\")\n",
    "newpos = newpos + 1\n",
    "file[newpos:(newpos + len(fTitle))] = numpy.frombuffer(fTitle, dtype = numpy.uint8)"
   ]
  },
  {
   "cell_type": "code",
   "execution_count": null,
   "metadata": {},
   "outputs": [],
   "source": [
    "#Read number of keys\n",
    "nkeys = 1\n",
    "newpos = 421\n",
    "toadd = numpy.frombuffer(struct.pack(_format5, nkeys), dtype = numpy.uint8)\n",
    "file[newpos:(newpos + len(toadd))] = toadd"
   ]
  },
  {
   "cell_type": "code",
   "execution_count": null,
   "metadata": {},
   "outputs": [],
   "source": [
    "#TKey Instance\n",
    "start =  425\n",
    "fNbytes =  70\n",
    "fVersion =  4\n",
    "fObjlen =  10\n",
    "fDatime =  1574221431\n",
    "fKeylen =  60\n",
    "fCycle =  1\n",
    "fSeekKey =  220\n",
    "fSeekPdir =  100\n",
    "toadd = numpy.frombuffer(struct.pack(_format_small, fNbytes, fVersion, fObjlen, fDatime, fKeylen, fCycle, fSeekKey, fSeekPdir), dtype = numpy.uint8)\n",
    "file[start:(start + len(toadd))] = toadd\n",
    "\n",
    "newpos =  451\n",
    "fClassName =  b'TObject'\n",
    "fName =  b'TObject'\n",
    "fTitle =  b'Basic ROOT object'\n",
    "file[newpos] = bytes(str(len(fClassName)),\"ascii\")\n",
    "newpos = newpos + 1\n",
    "file[newpos:(newpos + len(fClassName))] = numpy.frombuffer(fClassName, dtype = numpy.uint8)\n",
    "newpos = newpos + len(fClassName)\n",
    "file[newpos] = bytes(str(len(fName)),\"ascii\")\n",
    "newpos = newpos + 1\n",
    "file[newpos:(newpos + len(fName))] = numpy.frombuffer(fName, dtype = numpy.uint8)\n",
    "newpos = newpos + len(fName)\n",
    "file[newpos] = bytes(str(len(fTitle)),\"ascii\")\n",
    "newpos = newpos + 1\n",
    "file[newpos:(newpos + len(fTitle))] = numpy.frombuffer(fTitle, dtype = numpy.uint8)"
   ]
  },
  {
   "cell_type": "code",
   "execution_count": null,
   "metadata": {},
   "outputs": [],
   "source": [
    "f = open(\"tests/samples/tobject.root\", \"rb\")\n",
    "count = 0\n",
    "try:\n",
    "    byte = f.read(1)\n",
    "    while byte != \"\":\n",
    "        print (count, \" \", byte)\n",
    "        count = count + 1\n",
    "        byte = f.read(1)\n",
    "        if count == 541:\n",
    "            break\n",
    "finally:\n",
    "    f.close()"
   ]
  },
  {
   "cell_type": "code",
   "execution_count": null,
   "metadata": {},
   "outputs": [],
   "source": [
    "f = open(\"uprootTObject.root\", \"rb\")\n",
    "count = 0\n",
    "try:\n",
    "    byte = f.read(1)\n",
    "    while byte != \"\":\n",
    "        print (count, \" \", byte)\n",
    "        count = count + 1\n",
    "        byte = f.read(1)\n",
    "        if count == 541:\n",
    "            break\n",
    "finally:\n",
    "    f.close()"
   ]
  },
  {
   "cell_type": "code",
   "execution_count": null,
   "metadata": {},
   "outputs": [],
   "source": [
    "#Comparing Bytes\n",
    "for i in range(len(target_file)):\n",
    "    if file[i] != target_file[i]:\n",
    "        print (i, file[i], \"!=\", target_file[i])"
   ]
  },
  {
   "cell_type": "code",
   "execution_count": null,
   "metadata": {},
   "outputs": [],
   "source": [
    "import uproot\n",
    "uproot.open(\"uprootTObject.root\")"
   ]
  },
  {
   "cell_type": "code",
   "execution_count": null,
   "metadata": {},
   "outputs": [],
   "source": []
  }
 ],
 "metadata": {
  "kernelspec": {
   "display_name": "Python 3",
   "language": "python",
   "name": "python3"
  },
  "language_info": {
   "codemirror_mode": {
    "name": "ipython",
    "version": 3
   },
   "file_extension": ".py",
   "mimetype": "text/x-python",
   "name": "python",
   "nbconvert_exporter": "python",
   "pygments_lexer": "ipython3",
   "version": "3.6.5"
  }
 },
 "nbformat": 4,
 "nbformat_minor": 2
}
