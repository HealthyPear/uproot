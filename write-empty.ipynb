{
 "cells": [
  {
   "cell_type": "code",
   "execution_count": null,
   "metadata": {},
   "outputs": [],
   "source": [
    "import struct\n",
    "import numpy"
   ]
  },
  {
   "cell_type": "code",
   "execution_count": null,
   "metadata": {},
   "outputs": [],
   "source": [
    "#Put all bytes from target file into memmap array\n",
    "target_file = numpy.memmap(filename = \"tests/samples/empty.root\", mode = \"r\", dtype = numpy.uint8, shape = (403,))"
   ]
  },
  {
   "cell_type": "code",
   "execution_count": null,
   "metadata": {},
   "outputs": [],
   "source": [
    "_format1       = \">4si\"\n",
    "_format2_small = \">iiiiiiBiii18s\"\n",
    "_format2_big   = \">iqqiiiBiqi18s\"\n",
    "_format3       = \">hIIii\"\n",
    "_format4_small = \">iii\"\n",
    "_format4_big   = \">qqq\"\n",
    "_format5       = \">i\"\n",
    "_format_small  = \">ihiIhhii\"\n",
    "_format_big    = \">ihiIhhqq\"\n",
    "_startcheck_format = \">IH\""
   ]
  },
  {
   "cell_type": "code",
   "execution_count": null,
   "metadata": {},
   "outputs": [],
   "source": [
    "#Run either this or the next block\n",
    "name = input(\"Enter name of the ROOT file - \")\n",
    "if name.endswith(\".root\") is False:\n",
    "    name = name + \".root\"\n",
    "file = numpy.memmap(filename = name, dtype = numpy.uint8, mode = \"w+\", shape = (403,))\n",
    "#In the case of a 1D array, the shape is the size of the file\n",
    "#In ROOT files, the fEND corresponds to the size of the file\n",
    "#fEND for ~/Downloads/uproot/tests/samples/empty.root is 403"
   ]
  },
  {
   "cell_type": "code",
   "execution_count": null,
   "metadata": {},
   "outputs": [],
   "source": [
    "#Run either this or the previous block\n",
    "file = numpy.memmap(filename = \"uprootempty.root\", dtype = numpy.uint8, mode = \"w+\", shape = (403,))\n",
    "file[:] = target_file[:]"
   ]
  },
  {
   "cell_type": "code",
   "execution_count": null,
   "metadata": {},
   "outputs": [],
   "source": [
    "#Examine bytes of empty file\n",
    "f = open(\"tests/samples/empty.root\", \"rb\")\n",
    "count = 0\n",
    "try:\n",
    "    byte = f.read(1)\n",
    "    while byte != \"\":\n",
    "        print (count, \" \", byte)\n",
    "        count = count + 1\n",
    "        byte = f.read(1)\n",
    "        if count == 403:\n",
    "            break\n",
    "finally:\n",
    "    f.close()"
   ]
  },
  {
   "cell_type": "code",
   "execution_count": null,
   "metadata": {},
   "outputs": [],
   "source": [
    "#Header bytes\n",
    "fVersion = 61400\n",
    "toadd = numpy.frombuffer(struct.pack(_format1, b\"root\", fVersion), dtype=numpy.uint8)\n",
    "count = len(toadd)\n",
    "file[:count] = toadd\n",
    "#constants for file dummy.root\n",
    "fBEGIN = 100\n",
    "fEND = 403\n",
    "fSeekFree = 349\n",
    "fNbytesFree = 54\n",
    "nfree = 1\n",
    "fNbytesName = 56\n",
    "fUnits = 4\n",
    "fCompress = 0\n",
    "fSeekInfo = 216\n",
    "fNbytesInfo = 85\n",
    "fUUID =  b\"\\x00\\x01\\xf4\\x9d#\\xbe~\\xdc\\x11\\xe8\\x90\\xf8~S\\x1f\\xac\\xbe\\xef\"\n",
    "if fVersion <= 1000000:\n",
    "    packer = _format2_small\n",
    "else:\n",
    "    packer = _format2_big\n",
    "toadd = numpy.frombuffer(struct.pack(packer, fBEGIN, fEND, fSeekFree, fNbytesFree, nfree, fNbytesName, fUnits, fCompress, fSeekInfo, fNbytesInfo, fUUID), dtype=numpy.uint8)\n",
    "file[count:(count + len(toadd))] = toadd\n",
    "count = count + len(toadd)"
   ]
  },
  {
   "cell_type": "code",
   "execution_count": null,
   "metadata": {},
   "outputs": [],
   "source": [
    "#Directory Information\n",
    "newpos = 156\n",
    "fVersion =  5\n",
    "fDatimeC =  1573324041\n",
    "fDatimeM =  1573324041\n",
    "fNbytesKeys =  48\n",
    "fNbytesName =  56\n",
    "toadd = numpy.frombuffer(struct.pack(_format3, fVersion, fDatimeC, fDatimeM, fNbytesKeys, fNbytesName), dtype = numpy.uint8)\n",
    "file[newpos:(newpos + len(toadd))] = toadd\n",
    "newpos = newpos + len(toadd)\n",
    "fSeekDir =  100\n",
    "fSeekParent =  0\n",
    "fSeekKeys =  301\n",
    "if fVersion <= 1000:\n",
    "    packer = _format4_small\n",
    "else:\n",
    "    packer = _format4_big\n",
    "toadd = numpy.frombuffer(struct.pack(packer, fSeekDir, fSeekParent, fSeekKeys), dtype = numpy.uint8)\n",
    "file[newpos:(newpos + len(toadd))] = toadd\n",
    "newpos = newpos + len(toadd)"
   ]
  },
  {
   "cell_type": "code",
   "execution_count": null,
   "metadata": {},
   "outputs": [],
   "source": [
    "#Header Key\n",
    "newpos = 301\n",
    "fNbytes = 48\n",
    "fVersion = 4\n",
    "fObjlen = 4\n",
    "fDatime = 1573324041\n",
    "fKeylen = 44\n",
    "fCycle = 1\n",
    "fSeekKey = 301\n",
    "fSeekPdir = 100\n",
    "toadd = numpy.frombuffer(struct.pack(_format_small, fNbytes, fVersion, fObjlen, fDatime, fKeylen, fCycle, fSeekKey, fSeekPdir), dtype = numpy.uint8)\n",
    "file[newpos:(newpos + len(toadd))] = toadd\n",
    "if fVersion > 1000:\n",
    "    toadd = numpy.frombuffer(struct.pack(_format_big, fNbytes, fVersion, fObjlen, fDatime, fKeylen, fCycle, fSeekKey, fSeekPdir), dtype = numpy.uint8) \n",
    "    file[newpos:(newpos+len(toadd))]\n",
    "newpos = newpos + len(toadd)\n",
    "\n",
    "newpos = 327\n",
    "fClassName = b'TFile'\n",
    "fName = b'empty.root'\n",
    "fTitle = b''\n",
    "file[newpos] = bytes(str(len(fClassName)),\"ascii\")\n",
    "newpos = newpos + 1\n",
    "file[newpos:(newpos + len(fClassName))] = numpy.frombuffer(fClassName, dtype = numpy.uint8)\n",
    "newpos = newpos + len(fClassName)\n",
    "file[newpos] = bytes(str(len(fName)),\"ascii\")\n",
    "newpos = newpos + 1\n",
    "file[newpos:(newpos + len(fName))] = numpy.frombuffer(fName, dtype = numpy.uint8)\n",
    "newpos = newpos + len(fName)\n",
    "file[newpos] = bytes(str(len(fTitle)),\"ascii\")\n",
    "newpos = newpos + 1\n",
    "file[newpos:(newpos + len(fTitle))] = numpy.frombuffer(fTitle, dtype = numpy.uint8)"
   ]
  },
  {
   "cell_type": "code",
   "execution_count": null,
   "metadata": {},
   "outputs": [],
   "source": [
    "#Streamer Key\n",
    "newpos = 216\n",
    "fNbytes = 85\n",
    "fVersion = 4\n",
    "fObjlen = 21\n",
    "fDatime = 1573324041\n",
    "fKeylen = 64\n",
    "fCycle = 1\n",
    "fSeekKey = 216\n",
    "fSeekPdir = 100\n",
    "toadd = numpy.frombuffer(struct.pack(_format_small, fNbytes, fVersion, fObjlen, fDatime, fKeylen, fCycle, fSeekKey, fSeekPdir), dtype = numpy.uint8)\n",
    "file[newpos:(newpos + len(toadd))] = toadd\n",
    "if fVersion > 1000:\n",
    "    toadd = numpy.frombuffer(struct.pack(_format_big, fNbytes, fVersion, fObjlen, fDatime, fKeylen, fCycle, fSeekKey, fSeekPdir), dtype = numpy.uint8) \n",
    "    file[newpos:(newpos+len(toadd))]\n",
    "newpos = newpos + len(toadd)\n",
    "\n",
    "newpos = 242\n",
    "fClassName =b'TList'\n",
    "fName = b'StreamerInfo'\n",
    "fTitle = b'Doubly linked list'\n",
    "file[newpos] = bytes(str(len(fClassName)),\"ascii\")\n",
    "newpos = newpos + 1\n",
    "file[newpos:(newpos + len(fClassName))] = numpy.frombuffer(fClassName, dtype = numpy.uint8)\n",
    "newpos = newpos + len(fClassName)\n",
    "file[newpos] = bytes(str(len(fName)),\"ascii\")\n",
    "newpos = newpos + 1\n",
    "file[newpos:(newpos + len(fName))] = numpy.frombuffer(fName, dtype = numpy.uint8)\n",
    "newpos = newpos + len(fName)\n",
    "file[newpos] = bytes(str(len(fTitle)),\"ascii\")\n",
    "newpos = newpos + 1\n",
    "file[newpos:(newpos + len(fTitle))] = numpy.frombuffer(fTitle, dtype = numpy.uint8)"
   ]
  },
  {
   "cell_type": "code",
   "execution_count": null,
   "metadata": {},
   "outputs": [],
   "source": [
    "newpos = 280\n",
    "cnt = 1073741841\n",
    "vers = 5\n",
    "toadd = numpy.frombuffer(struct.pack(_startcheck_format, cnt, vers), dtype = numpy.uint8)\n",
    "file[newpos:(newpos + len(toadd))] = toadd\n",
    "newpos = newpos + len(toadd)"
   ]
  },
  {
   "cell_type": "code",
   "execution_count": null,
   "metadata": {},
   "outputs": [],
   "source": [
    "#TList Streamer\n",
    "newpos = 296\n",
    "name = b\"\"\n",
    "file[newpos:(newpos + len(name))] = numpy.frombuffer(name, dtype = numpy.uint8)\n",
    "newpos = newpos + len(name)\n",
    "size = 0\n",
    "toadd = numpy.frombuffer(struct.pack(\">i\", size), dtype = numpy.uint8)\n",
    "file[newpos:(newpos + len(toadd))] = toadd\n",
    "newpos = newpos + len(toadd)"
   ]
  },
  {
   "cell_type": "code",
   "execution_count": null,
   "metadata": {},
   "outputs": [],
   "source": [
    "#First Key\n",
    "newpos = 100\n",
    "fNbytes = 116\n",
    "fVersion = 4\n",
    "fObjlen = 72\n",
    "fDatime = 1573324041\n",
    "fKeylen = 44\n",
    "fCycle = 1\n",
    "fSeekKey = 100\n",
    "fSeekPdir = 0\n",
    "toadd = numpy.frombuffer(struct.pack(_format_small, fNbytes, fVersion, fObjlen, fDatime, fKeylen, fCycle, fSeekKey, fSeekPdir), dtype = numpy.uint8)\n",
    "file[newpos:(newpos + len(toadd))] = toadd\n",
    "if fVersion > 1000:\n",
    "    toadd = numpy.frombuffer(struct.pack(_format_big, fNbytes, fVersion, fObjlen, fDatime, fKeylen, fCycle, fSeekKey, fSeekPdir), dtype = numpy.uint8) \n",
    "    file[newpos:(newpos+len(toadd))]\n",
    "newpos = newpos + len(toadd)\n",
    "\n",
    "newpos = 126\n",
    "fClassName = b'TFile'\n",
    "fName = b'empty.root'\n",
    "fTitle = b''\n",
    "file[newpos] = bytes(str(len(fClassName)),\"ascii\")\n",
    "newpos = newpos + 1\n",
    "file[newpos:(newpos + len(fClassName))] = numpy.frombuffer(fClassName, dtype = numpy.uint8)\n",
    "newpos = newpos + len(fClassName)\n",
    "file[newpos] = bytes(str(len(fName)),\"ascii\")\n",
    "newpos = newpos + 1\n",
    "file[newpos:(newpos + len(fName))] = numpy.frombuffer(fName, dtype = numpy.uint8)\n",
    "newpos = newpos + len(fName)\n",
    "file[newpos] = bytes(str(len(fTitle)),\"ascii\")\n",
    "newpos = newpos + 1\n",
    "file[newpos:(newpos + len(fTitle))] = numpy.frombuffer(fTitle, dtype = numpy.uint8)"
   ]
  },
  {
   "cell_type": "code",
   "execution_count": null,
   "metadata": {},
   "outputs": [],
   "source": [
    "import uproot\n",
    "uproot.open(\"uprootempty.root\")"
   ]
  },
  {
   "cell_type": "code",
   "execution_count": null,
   "metadata": {},
   "outputs": [],
   "source": []
  }
 ],
 "metadata": {
  "kernelspec": {
   "display_name": "Python 3",
   "language": "python",
   "name": "python3"
  },
  "language_info": {
   "codemirror_mode": {
    "name": "ipython",
    "version": 3
   },
   "file_extension": ".py",
   "mimetype": "text/x-python",
   "name": "python",
   "nbconvert_exporter": "python",
   "pygments_lexer": "ipython3",
   "version": "3.6.5"
  }
 },
 "nbformat": 4,
 "nbformat_minor": 2
}
