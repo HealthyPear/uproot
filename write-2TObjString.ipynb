{
 "cells": [
  {
   "cell_type": "code",
   "execution_count": null,
   "metadata": {},
   "outputs": [],
   "source": [
    "import struct\n",
    "import numpy\n",
    "from write.pointer import Pointer\n",
    "from write.pusher import Pusher\n",
    "from write.key import Key"
   ]
  },
  {
   "cell_type": "code",
   "execution_count": null,
   "metadata": {},
   "outputs": [],
   "source": [
    "#Put all bytes from target file into memmap array\n",
    "target_file = numpy.memmap(filename = \"tests/samples/dummy2.root\", mode = \"r\", dtype = numpy.uint8, shape = (928,))"
   ]
  },
  {
   "cell_type": "code",
   "execution_count": null,
   "metadata": {},
   "outputs": [],
   "source": [
    "_format1       = \">4si\"\n",
    "_format2_small = \">iiiiiiBiii18s\"\n",
    "_format2_big   = \">iqqiiiBiqi18s\"\n",
    "_format3       = \">hIIii\"\n",
    "_format4_small = \">iii\"\n",
    "_format4_big   = \">qqq\"\n",
    "_format5       = \">i\"\n",
    "_format_small  = \">ihiIhhii\"\n",
    "_format_big    = \">ihiIhhqq\"\n",
    "_startcheck_format = \">IH\""
   ]
  },
  {
   "cell_type": "code",
   "execution_count": null,
   "metadata": {},
   "outputs": [],
   "source": [
    "filename = \"dummy2.root\"\n",
    "bytename = filename.encode(\"utf-8\")"
   ]
  },
  {
   "cell_type": "code",
   "execution_count": null,
   "metadata": {},
   "outputs": [],
   "source": [
    "#New file\n",
    "file = numpy.memmap(filename = filename, dtype = numpy.uint8, mode = \"w+\", shape = (1,))\n",
    "#In the case of a 1D array, the shape is the size of the file\n",
    "#In ROOT files, the fEND corresponds to the size of the file\n",
    "#fEND for ~/Downloads/uproot/tests/samples/dummy.root is 928"
   ]
  },
  {
   "cell_type": "code",
   "execution_count": null,
   "metadata": {},
   "outputs": [],
   "source": [
    "#Working on just replacing bytes on target_file\n",
    "file = numpy.memmap(filename = filename, dtype = numpy.uint8, mode = \"w+\", shape = (928,))\n",
    "file[:] = target_file[:]"
   ]
  },
  {
   "cell_type": "code",
   "execution_count": null,
   "metadata": {},
   "outputs": [],
   "source": [
    "pointer = Pointer(0)\n",
    "pusher = Pusher(file)"
   ]
  },
  {
   "cell_type": "code",
   "execution_count": null,
   "metadata": {},
   "outputs": [],
   "source": [
    "s1 = \"Hello World\"\n",
    "s1 = s1.encode(\"utf-8\")\n",
    "\n",
    "s2 = \"Pratyush\"\n",
    "s2 = s2.encode(\"utf-8\")"
   ]
  },
  {
   "cell_type": "code",
   "execution_count": null,
   "metadata": {},
   "outputs": [],
   "source": [
    "#Header bytes\n",
    "fCompress = 0 #Constant for now\n",
    "fSeekInfo = 416 #FIXME\n",
    "\n",
    "from write.header import Header\n",
    "header = Header(bytename, fCompress, fSeekInfo)\n",
    "pusher.head_push(pointer, header)"
   ]
  },
  {
   "cell_type": "code",
   "execution_count": null,
   "metadata": {},
   "outputs": [],
   "source": [
    "#Streamer Key\n",
    "from write.first_key import First_Key\n",
    "pointer = Pointer(header.fSeekInfo)\n",
    "pointcheck = pointer.index\n",
    "key = First_Key(pointer, 0)\n",
    "pusher.keyer(pointer, key)\n",
    "\n",
    "key.fKeylen = pointer.index - pointcheck\n",
    "key.fNbytes = key.fKeylen + key.fObjlen\n",
    "pusher.keyer(Pointer(pointcheck), key)\n",
    "\n",
    "if pointer.index>header.fEND:\n",
    "    header.fEND = pointer.index\n",
    "    header.fSeekFree = pointer.index\n",
    "    \n",
    "header.fNbytesInfo = key.fNbytes\n",
    "pusher.head_push(Pointer(0), header)"
   ]
  },
  {
   "cell_type": "code",
   "execution_count": null,
   "metadata": {},
   "outputs": [],
   "source": [
    "from write.TObjString.streamers import TObjString\n",
    "tobjstring = TObjString(pusher, pointer)\n",
    "tobjstring.write()\n",
    "\n",
    "if pointer.index>header.fEND:\n",
    "    header.fEND = pointer.index\n",
    "    header.fSeekFree = pointer.index\n",
    "    \n",
    "pusher.head_push(Pointer(0), header)"
   ]
  },
  {
   "cell_type": "code",
   "execution_count": null,
   "metadata": {},
   "outputs": [],
   "source": [
    "fSeekKeys = pointer.index"
   ]
  },
  {
   "cell_type": "code",
   "execution_count": null,
   "metadata": {},
   "outputs": [],
   "source": [
    "#Tkey instance\n",
    "from write.begin_key import Begin_Key\n",
    "pointer = Pointer(header.fBEGIN)\n",
    "pointcheck = pointer.index\n",
    "fName = bytename\n",
    "key = Begin_Key(fName)\n",
    "pusher.keyer(pointer, key)\n",
    "\n",
    "key.fKeylen = pointer.index - pointcheck\n",
    "key.fObjlen = key.fNbytes - key.fKeylen\n",
    "pusher.keyer(Pointer(pointcheck), key)\n",
    "\n",
    "if pointer.index>header.fEND:\n",
    "    header.fEND = pointer.index\n",
    "    header.fSeekFree = pointer.index\n",
    "    \n",
    "pusher.head_push(Pointer(0), header)"
   ]
  },
  {
   "cell_type": "code",
   "execution_count": null,
   "metadata": {},
   "outputs": [],
   "source": [
    "#Junk \n",
    "pusher.stringer(pointer, fName)\n",
    "\n",
    "if pointer.index>header.fEND:\n",
    "    header.fEND = pointer.index\n",
    "    header.fSeekFree = pointer.index\n",
    "    \n",
    "pusher.head_push(Pointer(0), header)"
   ]
  },
  {
   "cell_type": "code",
   "execution_count": null,
   "metadata": {},
   "outputs": [],
   "source": [
    "#Directory Information\n",
    "from write.directoryinfo import DirectoryInfo\n",
    "directory_pointcheck = pointer.index\n",
    "fNbytesKeys = 0\n",
    "fNbytesName = header.fNbytesName\n",
    "directory = DirectoryInfo(fNbytesKeys, fNbytesName, fSeekKeys)\n",
    "pusher.director(pointer, directory)\n",
    "\n",
    "if pointer.index>header.fEND:\n",
    "    header.fEND = pointer.index\n",
    "    header.fSeekFree = pointer.index\n",
    "    \n",
    "pusher.head_push(Pointer(0), header)\n",
    "\n",
    "directory_end = pointer.index"
   ]
  },
  {
   "cell_type": "code",
   "execution_count": null,
   "metadata": {},
   "outputs": [],
   "source": [
    "#Header Key\n",
    "pointer = Pointer(fSeekKeys)\n",
    "head_key_pointcheck = pointer.index\n",
    "fVersion = 4\n",
    "fNbytes = directory.fNbytesKeys\n",
    "fObjlen = 0\n",
    "fDatime = 1573188772\n",
    "fKeylen = 0\n",
    "fCycle = 1\n",
    "fSeekKey = directory.fSeekKeys\n",
    "fSeekPdir = 100\n",
    "fClassName = b'TFile'\n",
    "fName = bytename\n",
    "fTitle = b''\n",
    "packer = _format_small\n",
    "head_key = Key(packer, fNbytes, fVersion, fObjlen, fDatime, fKeylen, fCycle, fSeekKey, fSeekPdir, fClassName, fName, fTitle)\n",
    "pusher.keyer(pointer, head_key)\n",
    "\n",
    "head_key_end = pointer.index\n",
    "\n",
    "if pointer.index>header.fEND:\n",
    "    header.fEND = pointer.index\n",
    "    header.fSeekFree = pointer.index\n",
    "    \n",
    "pusher.head_push(Pointer(0), header)"
   ]
  },
  {
   "cell_type": "code",
   "execution_count": null,
   "metadata": {},
   "outputs": [],
   "source": [
    "#Read number of keys\n",
    "nkeys = 2\n",
    "packer = _format5\n",
    "pusher.numbers(pointer, packer, nkeys)\n",
    "\n",
    "if pointer.index>header.fEND:\n",
    "    header.fEND = pointer.index\n",
    "    header.fSeekFree = pointer.index\n",
    "    \n",
    "pusher.head_push(Pointer(0), header)"
   ]
  },
  {
   "cell_type": "code",
   "execution_count": null,
   "metadata": {},
   "outputs": [],
   "source": [
    "#Tkey instance \n",
    "pointcheck = pointer.index\n",
    "fVersion = 4\n",
    "fObjlen = 17 + len(s1) #Length of TObjString Branch Streamer\n",
    "fDatime = 1573188772\n",
    "fKeylen = 0\n",
    "fNbytes = fObjlen + fKeylen\n",
    "fCycle = 1\n",
    "fSeekKey = directory_end + 30\n",
    "fSeekPdir = 100\n",
    "packer = _format_small\n",
    "fClassName = b'TObjString'\n",
    "fName = s1\n",
    "fTitle = b'Collectable string class'\n",
    "\n",
    "tkey1 = Key(packer, fNbytes, fVersion, fObjlen, fDatime, fKeylen, fCycle, fSeekKey, fSeekPdir, fClassName, fName, fTitle)\n",
    "pusher.keyer(pointer, tkey1)\n",
    "\n",
    "tkey1.fKeylen = pointer.index - pointcheck\n",
    "tkey1.fNbytes = tkey1.fKeylen + tkey1.fObjlen\n",
    "pusher.keyer(Pointer(pointcheck), tkey1)\n",
    "\n",
    "if pointer.index>header.fEND:\n",
    "    header.fEND = pointer.index\n",
    "    header.fSeekFree = pointer.index\n",
    "    \n",
    "pusher.head_push(Pointer(0), header)"
   ]
  },
  {
   "cell_type": "code",
   "execution_count": null,
   "metadata": {},
   "outputs": [],
   "source": [
    "#Junk\n",
    "lowpointer = Pointer(fSeekKey)\n",
    "pusher.keyer(lowpointer, tkey1)"
   ]
  },
  {
   "cell_type": "code",
   "execution_count": null,
   "metadata": {},
   "outputs": [],
   "source": [
    "#TObjString Streamer - Have to get from branch\n",
    "from write.TObjString.stringobject import StringObject\n",
    "stringobject = StringObject(s1)\n",
    "pusher.push_object(lowpointer, stringobject)"
   ]
  },
  {
   "cell_type": "code",
   "execution_count": null,
   "metadata": {},
   "outputs": [],
   "source": [
    "#Tkey instance \n",
    "pointcheck = pointer.index\n",
    "fVersion = 4\n",
    "fObjlen = 17 + len(s2) #Length of TObjString Branch Streamer\n",
    "fDatime = 1576183015\n",
    "fKeylen = 0\n",
    "fNbytes = fObjlen + fKeylen\n",
    "fCycle = 1\n",
    "fSeekKey = lowpointer.index\n",
    "fSeekPdir = 100\n",
    "packer = _format_small\n",
    "fClassName = b'TObjString'\n",
    "fName = s2\n",
    "fTitle = b'Collectable string class'\n",
    "\n",
    "tkey2 = Key(packer, fNbytes, fVersion, fObjlen, fDatime, fKeylen, fCycle, fSeekKey, fSeekPdir, fClassName, fName, fTitle)\n",
    "pusher.keyer(pointer, tkey2)\n",
    "\n",
    "tkey2.fKeylen = pointer.index - pointcheck\n",
    "tkey2.fNbytes = tkey2.fKeylen + tkey2.fObjlen\n",
    "pusher.keyer(Pointer(pointcheck), tkey2)\n",
    "\n",
    "if pointer.index>header.fEND:\n",
    "    header.fEND = pointer.index\n",
    "    header.fSeekFree = pointer.index\n",
    "    \n",
    "pusher.head_push(Pointer(0), header)"
   ]
  },
  {
   "cell_type": "code",
   "execution_count": null,
   "metadata": {},
   "outputs": [],
   "source": [
    "#Replacing Values\n",
    "directory.fNbytesKeys = header.fEND - fSeekKeys\n",
    "pusher.director(Pointer(directory_pointcheck), directory)\n",
    "\n",
    "head_key.fNbytes = directory.fNbytesKeys\n",
    "head_key.fKeylen = head_key_end - head_key_pointcheck\n",
    "head_key.fObjlen = head_key.fNbytes - head_key.fKeylen\n",
    "pusher.keyer(Pointer(head_key_pointcheck), head_key)"
   ]
  },
  {
   "cell_type": "code",
   "execution_count": null,
   "metadata": {},
   "outputs": [],
   "source": [
    "#Junk\n",
    "lowpointer = Pointer(fSeekKey)\n",
    "pusher.keyer(lowpointer, tkey2)"
   ]
  },
  {
   "cell_type": "code",
   "execution_count": null,
   "metadata": {},
   "outputs": [],
   "source": [
    "#TObjString Streamer - Have to get from branch\n",
    "from write.TObjString.stringobject import StringObject\n",
    "stringobject = StringObject(s2)\n",
    "pusher.push_object(lowpointer, stringobject)"
   ]
  },
  {
   "cell_type": "code",
   "execution_count": null,
   "metadata": {},
   "outputs": [],
   "source": [
    "#Examine bytes of target file\n",
    "f = open(\"tests/samples/dummy2.root\", \"rb\")\n",
    "count = 0\n",
    "try:\n",
    "    byte = f.read(1)\n",
    "    while byte != \"\":\n",
    "        print (count, \" \", byte)\n",
    "        count = count + 1\n",
    "        byte = f.read(1)\n",
    "        if count == header.fEND:\n",
    "            break\n",
    "finally:\n",
    "    f.close()"
   ]
  },
  {
   "cell_type": "code",
   "execution_count": null,
   "metadata": {},
   "outputs": [],
   "source": [
    "#Examine bytes of our file\n",
    "f = open(filename, \"rb\")\n",
    "count = 0\n",
    "try:\n",
    "    byte = f.read(1)\n",
    "    while byte != \"\":\n",
    "        print (count, \" \", byte)\n",
    "        count = count + 1\n",
    "        byte = f.read(1)\n",
    "        if count == header.fEND:\n",
    "            break\n",
    "finally:\n",
    "    f.close()"
   ]
  },
  {
   "cell_type": "code",
   "execution_count": null,
   "metadata": {},
   "outputs": [],
   "source": [
    "#Examining target_file\n",
    "target_file[:count]"
   ]
  },
  {
   "cell_type": "code",
   "execution_count": null,
   "metadata": {},
   "outputs": [],
   "source": [
    "#Examining our file\n",
    "file[:count]"
   ]
  },
  {
   "cell_type": "code",
   "execution_count": null,
   "metadata": {},
   "outputs": [],
   "source": [
    "#Test - Debug target file with uproot\n",
    "import uproot\n",
    "uproot.open(\"tests/samples/dummy.root\")"
   ]
  },
  {
   "cell_type": "code",
   "execution_count": null,
   "metadata": {},
   "outputs": [],
   "source": [
    "#Test - Check hexdump of target file\n",
    "!hexdump -C ~/Downloads/uproot/tests/samples/dummy.root"
   ]
  },
  {
   "cell_type": "code",
   "execution_count": null,
   "metadata": {},
   "outputs": [],
   "source": [
    "#Test - uproot is reading is reading our file correctly\n",
    "import uproot\n",
    "uproot.open(\"uprootTObjString.root\")"
   ]
  },
  {
   "cell_type": "code",
   "execution_count": null,
   "metadata": {},
   "outputs": [],
   "source": [
    "#Test - Check size of file\n",
    "import os\n",
    "statinfo_target = os.stat(\"tests/samples/dummy.root\")\n",
    "print (\"Size of target file is \", statinfo_target.st_size)\n",
    "statinfo_copy = os.stat('uprootTObjString.root')\n",
    "print (\"Size of written file is \", statinfo_copy.st_size)"
   ]
  },
  {
   "cell_type": "code",
   "execution_count": null,
   "metadata": {},
   "outputs": [],
   "source": []
  },
  {
   "cell_type": "code",
   "execution_count": null,
   "metadata": {},
   "outputs": [],
   "source": []
  }
 ],
 "metadata": {
  "kernelspec": {
   "display_name": "Python 3",
   "language": "python",
   "name": "python3"
  },
  "language_info": {
   "codemirror_mode": {
    "name": "ipython",
    "version": 3
   },
   "file_extension": ".py",
   "mimetype": "text/x-python",
   "name": "python",
   "nbconvert_exporter": "python",
   "pygments_lexer": "ipython3",
   "version": "3.6.5"
  }
 },
 "nbformat": 4,
 "nbformat_minor": 2
}
